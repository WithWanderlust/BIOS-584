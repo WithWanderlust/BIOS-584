{
 "cells": [
  {
   "cell_type": "markdown",
   "id": "0d725e48-7754-4ca7-92a6-3320dc62ac6c",
   "metadata": {},
   "source": [
    "This is my first Jupyter notebook."
   ]
  },
  {
   "cell_type": "code",
   "execution_count": 2,
   "id": "e0604f32-a9ca-4573-9fcc-d1bb9e87bf24",
   "metadata": {},
   "outputs": [
    {
     "name": "stdout",
     "output_type": "stream",
     "text": [
      "My name is Madeline Nguyen.\n"
     ]
    }
   ],
   "source": [
    "print(\"My name is Madeline Nguyen.\")"
   ]
  }
 ],
 "metadata": {
  "kernelspec": {
   "display_name": "Python 3 (ipykernel)",
   "language": "python",
   "name": "python3"
  },
  "language_info": {
   "codemirror_mode": {
    "name": "ipython",
    "version": 3
   },
   "file_extension": ".py",
   "mimetype": "text/x-python",
   "name": "python",
   "nbconvert_exporter": "python",
   "pygments_lexer": "ipython3",
   "version": "3.13.7"
  }
 },
 "nbformat": 4,
 "nbformat_minor": 5
}
